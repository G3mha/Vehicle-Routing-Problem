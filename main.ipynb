{
 "cells": [
  {
   "cell_type": "markdown",
   "metadata": {},
   "source": [
    "# Vehicle Routing Problem (VRP)\n",
    "\n",
    "Author: Enricco Gemha"
   ]
  },
  {
   "cell_type": "markdown",
   "metadata": {},
   "source": [
    "*This project targets the architecture of MacOS, which I'm running. Please, tweak the `compile_commands` below for the specifics of your OS.*"
   ]
  },
  {
   "cell_type": "code",
   "execution_count": null,
   "metadata": {},
   "outputs": [],
   "source": [
    "# Compile the C++ programs\n",
    "compile_commands = [\n",
    "  \"cd src/implementations\",\n",
    "  \"g++ -std=c++11 -o global_search global_search.cpp utils.cpp\",\n",
    "  \"g++ -std=c++11 -o nearest_neighbor nearest_neighbor.cpp utils.cpp\",\n",
    "  \"/opt/homebrew/opt/llvm/bin/clang++ -fopenmp -std=c++11 -I/opt/homebrew/opt/libomp/include -L/opt/homebrew/opt/libomp/lib -o omp omp.cpp utils.cpp\"\n",
    "]"
   ]
  },
  {
   "cell_type": "markdown",
   "metadata": {},
   "source": [
    "## Objective\n",
    "\n",
    "Develop a C++ application to optimize vehicle routes for a logistics company, aiming to minimize the total cost of routes."
   ]
  },
  {
   "cell_type": "markdown",
   "metadata": {},
   "source": [
    "## Description\n",
    "\n",
    "You are tasked with creating a computational solution for the Vehicle Routing Problem (VRP) for a logistics company. The company has a fleet of vehicles used to deliver products to various clients. Each vehicle has a maximum load capacity, and each client has a specific demand that must be met. The goal is to determine the optimal routes for the vehicles, ensuring that all clients are served, vehicle capacity constraints are respected, and the total delivery cost is minimized."
   ]
  },
  {
   "cell_type": "markdown",
   "metadata": {},
   "source": [
    "## Constraints and Requirements\n",
    "\n",
    "\n",
    "- **Vehicle Capacity**: Each vehicle has a maximum load capacity that cannot be exceeded.\n",
    "\n",
    "- **Client Demand**: Each client has a specific demand that must be fully met by a single vehicle.\n",
    "\n",
    "- **Route Cost**: Each route has a cost representing the aggregate computation of distance traveled, delivery time, and fuel consumption. The objective is to minimize the total cost.\n",
    "\n",
    "- **Maximum Visits per Route**: Each route can visit a maximum number of cities.\n",
    "\n",
    "- **Start and End Point**: All vehicles start and end their routes at the company's depot."
   ]
  },
  {
   "cell_type": "markdown",
   "metadata": {},
   "source": [
    "## Computational Challenges\n",
    "\n",
    "- VRP is an NP-hard problem, meaning its computational complexity grows exponentially with the number of clients and vehicles.\n",
    "\n",
    "- Exhaustive search for all possible route combinations becomes impractical for larger instances of the problem."
   ]
  },
  {
   "cell_type": "markdown",
   "metadata": {},
   "source": [
    "## Solution Composition\n",
    "\n",
    "1. **Global Search Algorithm**: Implementation of a brute-force algorithm for the problem.\n",
    "\n",
    "2. **Heuristic Solution**: Implementation of an approximate solution using heuristics or local search methods.\n",
    "\n",
    "3. **Parallelization with OpenMP**: Utilize threads and the OpenMP library to parallelize the developed algorithm to reduce execution time. This involves analyzing and implementing the parallelization of components that can benefit from concurrent execution, such as initial solution generation or local search."
   ]
  },
  {
   "cell_type": "markdown",
   "metadata": {},
   "source": [
    "### Why choosing them?\n",
    "\n",
    "### 1. Global Search (Vanilla)\n",
    "\n",
    "Also known as exhaustive search, is chosen for its ability to find the exact optimal solution by evaluating all possible permutations of routes. Despite its computational intensity, global search serves as an essential baseline for the following reasons:\n",
    "\n",
    "- **Optimal Solution**: It guarantees finding the optimal solution by exhaustively exploring all possible routes.\n",
    "\n",
    "- **Benchmarking**: Provides a benchmark to compare the effectiveness and efficiency of heuristic and parallel approaches.\n",
    "\n",
    "- **Comprehensive Analysis**: Useful for understanding the problem's solution space and for small to medium-sized instances where computational resources allow for exhaustive evaluation.\n",
    "\n",
    "### 2. Nearest Neighbor (Heuristic)\n",
    "\n",
    "While it does not guarantee an optimal solution, it usually provides a good approximation in a much shorter runtime compared to evaluating all permutations. Some of its benefits are:\n",
    "\n",
    "- **Efficiency**: It significantly reduces the computational complexity by avoiding the factorial growth associated with generating all permutations.\n",
    "\n",
    "- **Simplicity**: The heuristic is straightforward to implement and understand.\n",
    "\n",
    "- **Performance**: It often yields a reasonably good solution quickly, making it suitable for large problem instances where an exact solution is computationally infeasible.\n",
    "\n",
    "### 3. OpenMP paralellization (Fancy)\n",
    "\n",
    "To improve the performance using OpenMP, we can parallelize the for loops where independent iterations can be executed concurrently, specially on the following parts:\n",
    "\n",
    "- **Generating Permutations**: This part is inherently sequential due to the nature of permutations generation, so it doesn't benefit from parallelization.\n",
    "\n",
    "- **Valid Routes Calculation**: We can parallelize the outer loop that iterates over all routes to determine valid routes.\n",
    "\n",
    "- **Finding the Best Route**: We can parallelize the outer loop that iterates over valid routes to find the one with the minimum cost.\n",
    "\n",
    "This way, the performance can be improved when number of routes (permutations) is large."
   ]
  },
  {
   "cell_type": "code",
   "execution_count": null,
   "metadata": {},
   "outputs": [],
   "source": [
    "import random\n",
    "import os\n",
    "import time\n",
    "import subprocess\n",
    "import matplotlib.pyplot as plt\n",
    "import pandas as pd\n",
    "import numpy as np"
   ]
  },
  {
   "cell_type": "markdown",
   "metadata": {},
   "source": [
    "## Input Generation for Testing\n",
    "\n",
    "To effectively test the Vehicle Routing Problem (VRP) solution, it is essential to generate diverse and realistic input data. This section outlines the process for creating input files representing various graph configurations and client demands."
   ]
  },
  {
   "cell_type": "markdown",
   "metadata": {},
   "source": [
    "### Functions for Input Generation\n",
    "\n",
    "We use two primary functions to generate the input data:\n",
    "\n",
    "1. `gerar_dicionario_demandas(N)`: This function creates a dictionary where each key is an integer from 1 to N (representing clients), and the value is a random integer between 1 and 10, representing the demand of each client.\n",
    "\n",
    "2. `gerar_entradas_grafo(num_nos, max_peso=100, probabilidade=0.25)`: This function generates a graph representing the VRP scenario. The graph includes nodes (clients and the depot) and weighted edges (representing the cost between nodes). The function ensures that each node is connected to the depot and randomly creates connections between other nodes based on a given probability."
   ]
  },
  {
   "cell_type": "markdown",
   "metadata": {},
   "source": [
    "### Usage Example\n",
    "\n",
    "The following code will use these functions to generate input files for graphs with varying sizes (from 5 to 15 nodes). Each generated file includes:\n",
    "\n",
    "- The total number of nodes (including the depot).\n",
    "\n",
    "- The demand of each client.\n",
    "\n",
    "- The edges between nodes with their associated costs."
   ]
  },
  {
   "cell_type": "code",
   "execution_count": 2,
   "metadata": {
    "id": "jo54M0TVqJjV"
   },
   "outputs": [],
   "source": [
    "def gerar_dicionario_demandas(N):\n",
    "  \"\"\"\n",
    "  Gera um dicionário onde a chave é um int de 1 até N e o valor é um inteiro aleatório de 1 até 10.\n",
    "\n",
    "  :param N: Número máximo para as chaves do dicionário.\n",
    "  :return: Dicionário com chaves de 1 até N e valores inteiros aleatórios de 1 até 10.\n",
    "  \"\"\"\n",
    "  return {i: random.randint(1, 10) for i in range(1, N)}\n",
    "\n",
    "\n",
    "def gerar_entradas_grafo(num_nos, max_peso=100, probabilidade=0.25):\n",
    "  \"\"\"\n",
    "  Gera um grafo para o problema de otimização de rotas de veículos.\n",
    "\n",
    "  :param num_nos: Número de nós no grafo, incluindo o depósito.\n",
    "  :param max_peso: Peso máximo para as arestas do grafo.\n",
    "  :param probabilidade: Probabilidade de criar uma rota entre duas cidades.\n",
    "  :return: Um dicionário representando o grafo onde as chaves são tuplas representando as arestas (nó1, nó2)\n",
    "            e os valores são os pesos dessas arestas.\n",
    "  \"\"\"\n",
    "  grafo = {}\n",
    "  # Gerar pesos para arestas entre o depósito e outros nós\n",
    "  for i in range(1, num_nos):\n",
    "    grafo[(0, i)] = random.randint(1, max_peso)\n",
    "    grafo[(i, 0)] = grafo[(0, i)]  # Assume que a distância de volta ao depósito é a mesma\n",
    "\n",
    "  # Gerar pesos para arestas entre todos os outros pares de nós\n",
    "  for i in range(1, num_nos+1):\n",
    "    for j in range(i+1, num_nos):\n",
    "      if random.random() > (1 - probabilidade):  # Verifica a probabilidade\n",
    "        peso = random.randint(1, max_peso)\n",
    "        grafo[(i, j)] = peso\n",
    "\n",
    "  return grafo\n",
    "\n",
    "############################################\n",
    "#             Exemplo de uso\n",
    "############################################\n",
    "for num_nos in range(5, 16): # Número total de nós incluindo o depósito\n",
    "  demandas = gerar_dicionario_demandas(num_nos)  # Gera as demandas para cada nó\n",
    "  grafo = gerar_entradas_grafo(num_nos)          # Gera o grafo que representa os locais e custos entre eles\n",
    "\n",
    "  # Salva o grafo em um arquivo TXT\n",
    "  with open(f'src/input/graph{f\"0{num_nos}\" if len(str(num_nos)) == 1 else num_nos}.txt', 'w') as arquivo:\n",
    "    arquivo.write(str(num_nos) + \"\\n\")    # Número de nós, incluindo depósito\n",
    "    for local, demanda in demandas.items():\n",
    "      linha = f\"{local} {demanda}\\n\"      # Par LOCAL DEMANDA\n",
    "      arquivo.write(linha)\n",
    "\n",
    "    arquivo.write(str(len(grafo)) + \"\\n\") # Número de arestas\n",
    "    for aresta, peso in grafo.items():\n",
    "      linha = f\"{aresta[0]} {aresta[1]} {peso}\\n\" # Trio: ORIGEM DESTINO CUSTO\n",
    "      arquivo.write(linha)\n"
   ]
  },
  {
   "cell_type": "markdown",
   "metadata": {},
   "source": [
    "## Compilation of C++ Programs\n",
    "\n",
    "To ensure all C++ programs are correctly compiled before execution, we run the compile commands in a single shell session. This approach guarantees that any dependencies between commands are respected."
   ]
  },
  {
   "cell_type": "code",
   "execution_count": 9,
   "metadata": {
    "id": "ASag0Dj8swqY"
   },
   "outputs": [
    {
     "name": "stdout",
     "output_type": "stream",
     "text": [
      "Compile Output:\n",
      " \n",
      "Compile Error:\n",
      " ld: warning: reexported library with install name '/opt/homebrew/opt/llvm/lib/libunwind.1.dylib' found at '/opt/homebrew/Cellar/llvm/18.1.6/lib/libunwind.1.0.dylib' couldn't be matched with any parent library and will be linked directly\n",
      "\n"
     ]
    }
   ],
   "source": [
    "# Concatenate the commands with '&&'\n",
    "compile_command_string = \" && \".join(compile_commands)\n",
    "# Run the compile command\n",
    "compile_process = subprocess.Popen(compile_command_string, shell=True, stdout=subprocess.PIPE, stderr=subprocess.PIPE)\n",
    "# Get the output and error\n",
    "compile_stdout, compile_stderr = compile_process.communicate()\n",
    "\n",
    "# Print the compile output and error\n",
    "print(\"Compile Output:\\n\", compile_stdout.decode())\n",
    "print(\"Compile Error:\\n\", compile_stderr.decode())"
   ]
  },
  {
   "cell_type": "markdown",
   "metadata": {},
   "source": [
    "## Execution and Timing of C++ Programs\n",
    "\n",
    "Now, we must create a function to run the executable and get its runtime.\n",
    "\n",
    "And then, to measure the performance of the compiled C++ programs, we run each executable against a series of input files and record the execution times."
   ]
  },
  {
   "cell_type": "code",
   "execution_count": 15,
   "metadata": {},
   "outputs": [],
   "source": [
    "# Define the capacity and input file folder\n",
    "capacity = 15\n",
    "input_folder = os.path.join(os.getcwd(), \"src/input\")"
   ]
  },
  {
   "cell_type": "code",
   "execution_count": 18,
   "metadata": {},
   "outputs": [],
   "source": [
    "def run_and_time_executable(executable_name):\n",
    "  results = {}\n",
    "  for file in os.listdir(input_folder):\n",
    "    if file.startswith(\"graph\") and file.endswith(\".txt\"):\n",
    "      # Extract the graph number from the file name\n",
    "      graph_number = int(file[5:-4])\n",
    "      start = time.time()\n",
    "      # Call the executable with the input file\n",
    "      process = subprocess.Popen(f\"./{executable_name} {os.path.join(input_folder, file)} {capacity}\", shell=True, stdout=subprocess.PIPE, stderr=subprocess.PIPE)\n",
    "      stdout, stderr = process.communicate()\n",
    "      end = time.time()\n",
    "      results[graph_number] = end - start\n",
    "  return results"
   ]
  },
  {
   "cell_type": "markdown",
   "metadata": {},
   "source": [
    "### Global Search runtime plot"
   ]
  },
  {
   "cell_type": "code",
   "execution_count": 19,
   "metadata": {},
   "outputs": [
    {
     "data": {
      "image/png": "[encoded data removed]",
      "text/plain": [
       "<Figure size 432x288 with 1 Axes>"
      ]
     },
     "metadata": {
      "needs_background": "light"
     },
     "output_type": "display_data"
    }
   ],
   "source": [
    "# Run the global search executable and plot the results\n",
    "global_results = run_and_time_executable(\"global_search\")\n",
    "plt.plot(list(global_results.keys()), list(global_results.values()), \"ro\")\n",
    "plt.xlabel(\"Graph number\")\n",
    "plt.ylabel(\"Execution time (s)\")\n",
    "plt.title(\"Global search execution time\")\n",
    "plt.show()"
   ]
  },
  {
   "cell_type": "markdown",
   "metadata": {},
   "source": [
    "### Heuristic (Nearest Neighbor) runtime plot"
   ]
  },
  {
   "cell_type": "code",
   "execution_count": 20,
   "metadata": {},
   "outputs": [
    {
     "data": {
      "image/png": "[encoded data removed]",
      "text/plain": [
       "<Figure size 432x288 with 1 Axes>"
      ]
     },
     "metadata": {
      "needs_background": "light"
     },
     "output_type": "display_data"
    }
   ],
   "source": [
    "# Run the heuristic search executable and plot the results\n",
    "heuristic_results = run_and_time_executable(\"nearest_neighbor\")\n",
    "plt.plot(list(heuristic_results.keys()), list(heuristic_results.values()), \"go\")\n",
    "plt.xlabel(\"Graph number\")\n",
    "plt.ylabel(\"Execution time (s)\")\n",
    "plt.title(\"Heuristic search execution time\")\n",
    "plt.show()"
   ]
  },
  {
   "cell_type": "markdown",
   "metadata": {},
   "source": [
    "### Parallel (OpenMP) runtime plot"
   ]
  },
  {
   "cell_type": "code",
   "execution_count": 21,
   "metadata": {},
   "outputs": [
    {
     "data": {
      "image/png": "[encoded data removed]",
      "text/plain": [
       "<Figure size 432x288 with 1 Axes>"
      ]
     },
     "metadata": {
      "needs_background": "light"
     },
     "output_type": "display_data"
    }
   ],
   "source": [
    "# Run the parallel search executable and plot the results\n",
    "parallel_results = run_and_time_executable(\"omp\")\n",
    "plt.plot(list(parallel_results.keys()), list(parallel_results.values()), \"bo\")\n",
    "plt.xlabel(\"Graph number\")\n",
    "plt.ylabel(\"Execution time (s)\")\n",
    "plt.title(\"Parallel search execution time\")\n",
    "plt.show()"
   ]
  },
  {
   "cell_type": "markdown",
   "metadata": {},
   "source": [
    "## Execution Time Comparison\n",
    "\n",
    "To evaluate the performance of different vehicle routing problem (VRP) solution approaches, we compare the execution times of the aforementioned methods."
   ]
  },
  {
   "cell_type": "markdown",
   "metadata": {},
   "source": [
    "### Why Use a Logarithmic Scale?\n",
    "\n",
    "A logarithmic scale is used to facilitate the comparison of execution times across a wide range of values. The main reasons for choosing a logarithmic scale are:\n",
    "\n",
    "- **Wide Range of Values**: Execution times can vary significantly, especially between exhaustive search and heuristic or parallel methods. A logarithmic scale compresses large values and expands smaller values, making it easier to compare methods with vastly different execution times.\n",
    "\n",
    "- **Better Visualization of Differences**: In a regular (linear) scale, large values can dominate the plot, making it difficult to discern differences among smaller values. A logarithmic scale provides a clearer view of the relative differences between methods.\n",
    "\n",
    "- **Exponential Growth**: Since VRP is an NP-hard problem, execution times can grow exponentially with the number of nodes. A logarithmic scale is particularly effective in illustrating exponential growth patterns."
   ]
  },
  {
   "cell_type": "code",
   "execution_count": 22,
   "metadata": {},
   "outputs": [
    {
     "data": {
      "image/png": "[encoded data removed]",
      "text/plain": [
       "<Figure size 720x504 with 1 Axes>"
      ]
     },
     "metadata": {
      "needs_background": "light"
     },
     "output_type": "display_data"
    }
   ],
   "source": [
    "# Compare the time taken for all the methods\n",
    "plt.figure(figsize=(10, 7))\n",
    "plt.plot(\n",
    "    list(global_results.keys()),\n",
    "    np.log10(list(global_results.values())),\n",
    "    \"rx\",\n",
    "    label=\"Global search\",\n",
    ")\n",
    "plt.plot(\n",
    "    list(heuristic_results.keys()),\n",
    "    np.log10(list(heuristic_results.values())),\n",
    "    \"gx\",\n",
    "    label=\"Heuristic search\",\n",
    ")\n",
    "plt.plot(\n",
    "    list(parallel_results.keys()),\n",
    "    np.log10(list(parallel_results.values())),\n",
    "    \"bx\",\n",
    "    label=\"Parallel search\",\n",
    ")\n",
    "plt.xlabel(\"Graph number\")\n",
    "plt.ylabel(\"Execution time [log10(s)]\")\n",
    "plt.title(\"Execution time comparison\")\n",
    "plt.legend()\n",
    "plt.show()"
   ]
  },
  {
   "cell_type": "markdown",
   "metadata": {},
   "source": [
    "## Evaluating Results\n",
    "\n",
    "The results are presented in the form of a scatter plot. Each data point represents the execution time for a specific graph size using one of the three approaches. The x-axis denotes the graph number (indicative of its size), while the y-axis represents the execution time in logarithmic scale.\n",
    "\n",
    "### Expected Results\n",
    "\n",
    "1. **Parallel Search vs. Sequential (Global) Search**:\n",
    "\n",
    "    - Expectation: The parallel search approach should be faster than the global search due to the concurrent execution of independent tasks.\n",
    "    \n",
    "    - Observation: The data points for the Parallel Search approach are generally lower than those for the Global Search, indicating that parallelization has effectively reduced execution times.\n",
    "\n",
    "2. **Heuristic Search vs. Exhaustive (Global) Search**:\n",
    "\n",
    "    - Expectation: The heuristic search should be faster than the exhaustive global search as it seeks approximate solutions without exploring all possibilities.\n",
    "    \n",
    "    - Observation: The heuristic search consistently shows lower execution times compared to the global search, confirming that the heuristic method is more efficient."
   ]
  },
  {
   "cell_type": "markdown",
   "metadata": {},
   "source": [
    "## Anomalies and Potential Causes\n",
    "\n",
    "While the results generally align with expectations, demonstrating the effectiveness of heuristic and parallel approaches in reducing execution times for larger graph sizes, there are instances where:\n",
    "\n",
    "- The Parallel Search approach does not significantly outperform the Sequential Search.\n",
    "\n",
    "- The Heuristic Search approach's performance is closer to the Global Search than expected.\n",
    "\n",
    "These anomalies could be due to several factors:\n",
    "\n",
    "- **Overhead of Parallelization**: For smaller graph sizes, the overhead associated with managing multiple threads could outweigh the benefits of parallel execution, leading to comparable or slightly higher execution times for the parallel approach.\n",
    "\n",
    "- **Implementation Specifics**: The efficiency of the implemented heuristic and parallel algorithms may also influence the results. Optimizations in code are potential in leading to more pronounced differences."
   ]
  },
  {
   "cell_type": "markdown",
   "metadata": {},
   "source": [
    "_This project development was aided by generative artificial intelligence, such as GitHub Copilot and ChatGPT._"
   ]
  }
 ],
 "metadata": {
  "colab": {
   "provenance": []
  },
  "kernelspec": {
   "display_name": "Python 3",
   "name": "python3"
  },
  "language_info": {
   "codemirror_mode": {
    "name": "ipython",
    "version": 3
   },
   "file_extension": ".py",
   "mimetype": "text/x-python",
   "name": "python",
   "nbconvert_exporter": "python",
   "pygments_lexer": "ipython3",
   "version": "3.8.8"
  }
 },
 "nbformat": 4,
 "nbformat_minor": 0
}
